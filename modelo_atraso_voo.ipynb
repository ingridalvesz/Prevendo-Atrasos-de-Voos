{
 "cells": [
  {
   "cell_type": "markdown",
   "metadata": {},
   "source": [
    "Modelo de machine learning,, mais especificamente, um modelo de regressão. Afim de prever os atrasos nos voos com base em suas características."
   ]
  },
  {
   "cell_type": "code",
   "execution_count": 194,
   "metadata": {},
   "outputs": [],
   "source": [
    "#Importando bibliotecas\n",
    "import pandas as pd\n",
    "import matplotlib.pyplot as plt\n",
    "import seaborn as sns\n",
    "import numpy as np"
   ]
  },
  {
   "cell_type": "code",
   "execution_count": 195,
   "metadata": {},
   "outputs": [
    {
     "data": {
      "text/html": [
       "<div>\n",
       "<style scoped>\n",
       "    .dataframe tbody tr th:only-of-type {\n",
       "        vertical-align: middle;\n",
       "    }\n",
       "\n",
       "    .dataframe tbody tr th {\n",
       "        vertical-align: top;\n",
       "    }\n",
       "\n",
       "    .dataframe thead th {\n",
       "        text-align: right;\n",
       "    }\n",
       "</style>\n",
       "<table border=\"1\" class=\"dataframe\">\n",
       "  <thead>\n",
       "    <tr style=\"text-align: right;\">\n",
       "      <th></th>\n",
       "      <th>flight_id</th>\n",
       "      <th>airline</th>\n",
       "      <th>aircraft_type</th>\n",
       "      <th>schengen</th>\n",
       "      <th>origin</th>\n",
       "      <th>arrival_time</th>\n",
       "      <th>departure_time</th>\n",
       "      <th>day</th>\n",
       "      <th>year</th>\n",
       "      <th>is_holiday</th>\n",
       "      <th>delay</th>\n",
       "    </tr>\n",
       "  </thead>\n",
       "  <tbody>\n",
       "    <tr>\n",
       "      <th>0</th>\n",
       "      <td>26</td>\n",
       "      <td>MM</td>\n",
       "      <td>Airbus A320</td>\n",
       "      <td>non-schengen</td>\n",
       "      <td>TCY</td>\n",
       "      <td>8.885071</td>\n",
       "      <td>10.885071</td>\n",
       "      <td>0</td>\n",
       "      <td>2010</td>\n",
       "      <td>False</td>\n",
       "      <td>70.205981</td>\n",
       "    </tr>\n",
       "    <tr>\n",
       "      <th>1</th>\n",
       "      <td>10</td>\n",
       "      <td>YE</td>\n",
       "      <td>Airbus A320</td>\n",
       "      <td>non-schengen</td>\n",
       "      <td>TCY</td>\n",
       "      <td>8.939996</td>\n",
       "      <td>11.939996</td>\n",
       "      <td>0</td>\n",
       "      <td>2010</td>\n",
       "      <td>False</td>\n",
       "      <td>38.484609</td>\n",
       "    </tr>\n",
       "    <tr>\n",
       "      <th>2</th>\n",
       "      <td>3</td>\n",
       "      <td>BZ</td>\n",
       "      <td>Embraer E175</td>\n",
       "      <td>schengen</td>\n",
       "      <td>TZF</td>\n",
       "      <td>18.635384</td>\n",
       "      <td>22.635384</td>\n",
       "      <td>0</td>\n",
       "      <td>2010</td>\n",
       "      <td>False</td>\n",
       "      <td>2.388305</td>\n",
       "    </tr>\n",
       "    <tr>\n",
       "      <th>3</th>\n",
       "      <td>28</td>\n",
       "      <td>BZ</td>\n",
       "      <td>Airbus A330</td>\n",
       "      <td>non-schengen</td>\n",
       "      <td>EMM</td>\n",
       "      <td>15.967963</td>\n",
       "      <td>17.967963</td>\n",
       "      <td>0</td>\n",
       "      <td>2010</td>\n",
       "      <td>False</td>\n",
       "      <td>19.138491</td>\n",
       "    </tr>\n",
       "    <tr>\n",
       "      <th>4</th>\n",
       "      <td>15</td>\n",
       "      <td>BZ</td>\n",
       "      <td>Airbus A330</td>\n",
       "      <td>non-schengen</td>\n",
       "      <td>FJB</td>\n",
       "      <td>16.571894</td>\n",
       "      <td>19.571894</td>\n",
       "      <td>0</td>\n",
       "      <td>2010</td>\n",
       "      <td>False</td>\n",
       "      <td>15.016271</td>\n",
       "    </tr>\n",
       "  </tbody>\n",
       "</table>\n",
       "</div>"
      ],
      "text/plain": [
       "   flight_id airline aircraft_type      schengen origin  arrival_time  \\\n",
       "0         26      MM   Airbus A320  non-schengen    TCY      8.885071   \n",
       "1         10      YE   Airbus A320  non-schengen    TCY      8.939996   \n",
       "2          3      BZ  Embraer E175      schengen    TZF     18.635384   \n",
       "3         28      BZ   Airbus A330  non-schengen    EMM     15.967963   \n",
       "4         15      BZ   Airbus A330  non-schengen    FJB     16.571894   \n",
       "\n",
       "   departure_time  day  year  is_holiday      delay  \n",
       "0       10.885071    0  2010       False  70.205981  \n",
       "1       11.939996    0  2010       False  38.484609  \n",
       "2       22.635384    0  2010       False   2.388305  \n",
       "3       17.967963    0  2010       False  19.138491  \n",
       "4       19.571894    0  2010       False  15.016271  "
      ]
     },
     "execution_count": 195,
     "metadata": {},
     "output_type": "execute_result"
    }
   ],
   "source": [
    "# lendo o arquivo CSV e inserindo os dados para um DataFrame\n",
    "dados = pd.read_csv('flights.csv')\n",
    "\n",
    "dados.head()"
   ]
  },
  {
   "cell_type": "code",
   "execution_count": 196,
   "metadata": {},
   "outputs": [
    {
     "data": {
      "text/html": [
       "<div>\n",
       "<style scoped>\n",
       "    .dataframe tbody tr th:only-of-type {\n",
       "        vertical-align: middle;\n",
       "    }\n",
       "\n",
       "    .dataframe tbody tr th {\n",
       "        vertical-align: top;\n",
       "    }\n",
       "\n",
       "    .dataframe thead th {\n",
       "        text-align: right;\n",
       "    }\n",
       "</style>\n",
       "<table border=\"1\" class=\"dataframe\">\n",
       "  <thead>\n",
       "    <tr style=\"text-align: right;\">\n",
       "      <th></th>\n",
       "      <th>flight_id</th>\n",
       "      <th>airline</th>\n",
       "      <th>aircraft_type</th>\n",
       "      <th>schengen</th>\n",
       "      <th>origin</th>\n",
       "      <th>arrival_time</th>\n",
       "      <th>departure_time</th>\n",
       "      <th>day</th>\n",
       "      <th>year</th>\n",
       "      <th>is_holiday</th>\n",
       "      <th>delay</th>\n",
       "    </tr>\n",
       "  </thead>\n",
       "  <tbody>\n",
       "    <tr>\n",
       "      <th>71170</th>\n",
       "      <td>3</td>\n",
       "      <td>BZ</td>\n",
       "      <td>Embraer E175</td>\n",
       "      <td>schengen</td>\n",
       "      <td>TZF</td>\n",
       "      <td>18.635384</td>\n",
       "      <td>22.635384</td>\n",
       "      <td>364</td>\n",
       "      <td>2022</td>\n",
       "      <td>True</td>\n",
       "      <td>25.677277</td>\n",
       "    </tr>\n",
       "    <tr>\n",
       "      <th>71171</th>\n",
       "      <td>17</td>\n",
       "      <td>BZ</td>\n",
       "      <td>Airbus A330</td>\n",
       "      <td>non-schengen</td>\n",
       "      <td>CNU</td>\n",
       "      <td>16.718722</td>\n",
       "      <td>21.718722</td>\n",
       "      <td>364</td>\n",
       "      <td>2022</td>\n",
       "      <td>True</td>\n",
       "      <td>52.624348</td>\n",
       "    </tr>\n",
       "    <tr>\n",
       "      <th>71172</th>\n",
       "      <td>7</td>\n",
       "      <td>MM</td>\n",
       "      <td>Boeing 787</td>\n",
       "      <td>schengen</td>\n",
       "      <td>TZF</td>\n",
       "      <td>8.564949</td>\n",
       "      <td>13.564949</td>\n",
       "      <td>364</td>\n",
       "      <td>2022</td>\n",
       "      <td>True</td>\n",
       "      <td>56.167080</td>\n",
       "    </tr>\n",
       "    <tr>\n",
       "      <th>71173</th>\n",
       "      <td>5</td>\n",
       "      <td>BZ</td>\n",
       "      <td>Airbus A320</td>\n",
       "      <td>schengen</td>\n",
       "      <td>ZQO</td>\n",
       "      <td>9.344097</td>\n",
       "      <td>12.344097</td>\n",
       "      <td>364</td>\n",
       "      <td>2022</td>\n",
       "      <td>True</td>\n",
       "      <td>56.758844</td>\n",
       "    </tr>\n",
       "    <tr>\n",
       "      <th>71174</th>\n",
       "      <td>29</td>\n",
       "      <td>BZ</td>\n",
       "      <td>Boeing 737</td>\n",
       "      <td>schengen</td>\n",
       "      <td>ZQO</td>\n",
       "      <td>8.591208</td>\n",
       "      <td>11.591208</td>\n",
       "      <td>364</td>\n",
       "      <td>2022</td>\n",
       "      <td>True</td>\n",
       "      <td>41.401648</td>\n",
       "    </tr>\n",
       "  </tbody>\n",
       "</table>\n",
       "</div>"
      ],
      "text/plain": [
       "       flight_id airline aircraft_type      schengen origin  arrival_time  \\\n",
       "71170          3      BZ  Embraer E175      schengen    TZF     18.635384   \n",
       "71171         17      BZ   Airbus A330  non-schengen    CNU     16.718722   \n",
       "71172          7      MM    Boeing 787      schengen    TZF      8.564949   \n",
       "71173          5      BZ   Airbus A320      schengen    ZQO      9.344097   \n",
       "71174         29      BZ    Boeing 737      schengen    ZQO      8.591208   \n",
       "\n",
       "       departure_time  day  year  is_holiday      delay  \n",
       "71170       22.635384  364  2022        True  25.677277  \n",
       "71171       21.718722  364  2022        True  52.624348  \n",
       "71172       13.564949  364  2022        True  56.167080  \n",
       "71173       12.344097  364  2022        True  56.758844  \n",
       "71174       11.591208  364  2022        True  41.401648  "
      ]
     },
     "execution_count": 196,
     "metadata": {},
     "output_type": "execute_result"
    }
   ],
   "source": [
    "#Visualizar as últimas linhas\n",
    "dados.tail()"
   ]
  },
  {
   "cell_type": "code",
   "execution_count": 197,
   "metadata": {},
   "outputs": [
    {
     "data": {
      "text/plain": [
       "(71175, 11)"
      ]
     },
     "execution_count": 197,
     "metadata": {},
     "output_type": "execute_result"
    }
   ],
   "source": [
    "#Visualizando a quantidade de colunas\n",
    "dados.shape"
   ]
  },
  {
   "cell_type": "code",
   "execution_count": 198,
   "metadata": {},
   "outputs": [
    {
     "data": {
      "text/html": [
       "<div>\n",
       "<style scoped>\n",
       "    .dataframe tbody tr th:only-of-type {\n",
       "        vertical-align: middle;\n",
       "    }\n",
       "\n",
       "    .dataframe tbody tr th {\n",
       "        vertical-align: top;\n",
       "    }\n",
       "\n",
       "    .dataframe thead th {\n",
       "        text-align: right;\n",
       "    }\n",
       "</style>\n",
       "<table border=\"1\" class=\"dataframe\">\n",
       "  <thead>\n",
       "    <tr style=\"text-align: right;\">\n",
       "      <th></th>\n",
       "      <th>flight_id</th>\n",
       "      <th>arrival_time</th>\n",
       "      <th>departure_time</th>\n",
       "      <th>day</th>\n",
       "      <th>year</th>\n",
       "      <th>delay</th>\n",
       "    </tr>\n",
       "  </thead>\n",
       "  <tbody>\n",
       "    <tr>\n",
       "      <th>count</th>\n",
       "      <td>71175.000000</td>\n",
       "      <td>71175.000000</td>\n",
       "      <td>71175.000000</td>\n",
       "      <td>71175.000000</td>\n",
       "      <td>71175.000000</td>\n",
       "      <td>71175.000000</td>\n",
       "    </tr>\n",
       "    <tr>\n",
       "      <th>mean</th>\n",
       "      <td>15.465135</td>\n",
       "      <td>13.283159</td>\n",
       "      <td>16.480222</td>\n",
       "      <td>182.000000</td>\n",
       "      <td>2016.000000</td>\n",
       "      <td>12.548378</td>\n",
       "    </tr>\n",
       "    <tr>\n",
       "      <th>std</th>\n",
       "      <td>8.649646</td>\n",
       "      <td>4.023380</td>\n",
       "      <td>4.143705</td>\n",
       "      <td>105.366769</td>\n",
       "      <td>3.741684</td>\n",
       "      <td>23.125349</td>\n",
       "    </tr>\n",
       "    <tr>\n",
       "      <th>min</th>\n",
       "      <td>1.000000</td>\n",
       "      <td>7.065594</td>\n",
       "      <td>10.065594</td>\n",
       "      <td>0.000000</td>\n",
       "      <td>2010.000000</td>\n",
       "      <td>-41.028033</td>\n",
       "    </tr>\n",
       "    <tr>\n",
       "      <th>25%</th>\n",
       "      <td>8.000000</td>\n",
       "      <td>8.939996</td>\n",
       "      <td>12.668655</td>\n",
       "      <td>91.000000</td>\n",
       "      <td>2013.000000</td>\n",
       "      <td>-4.412876</td>\n",
       "    </tr>\n",
       "    <tr>\n",
       "      <th>50%</th>\n",
       "      <td>15.000000</td>\n",
       "      <td>14.258911</td>\n",
       "      <td>16.376052</td>\n",
       "      <td>182.000000</td>\n",
       "      <td>2016.000000</td>\n",
       "      <td>9.740454</td>\n",
       "    </tr>\n",
       "    <tr>\n",
       "      <th>75%</th>\n",
       "      <td>23.000000</td>\n",
       "      <td>16.909690</td>\n",
       "      <td>20.041281</td>\n",
       "      <td>273.000000</td>\n",
       "      <td>2019.000000</td>\n",
       "      <td>27.650853</td>\n",
       "    </tr>\n",
       "    <tr>\n",
       "      <th>max</th>\n",
       "      <td>30.000000</td>\n",
       "      <td>19.341235</td>\n",
       "      <td>23.341235</td>\n",
       "      <td>364.000000</td>\n",
       "      <td>2022.000000</td>\n",
       "      <td>125.632352</td>\n",
       "    </tr>\n",
       "  </tbody>\n",
       "</table>\n",
       "</div>"
      ],
      "text/plain": [
       "          flight_id  arrival_time  departure_time           day          year  \\\n",
       "count  71175.000000  71175.000000    71175.000000  71175.000000  71175.000000   \n",
       "mean      15.465135     13.283159       16.480222    182.000000   2016.000000   \n",
       "std        8.649646      4.023380        4.143705    105.366769      3.741684   \n",
       "min        1.000000      7.065594       10.065594      0.000000   2010.000000   \n",
       "25%        8.000000      8.939996       12.668655     91.000000   2013.000000   \n",
       "50%       15.000000     14.258911       16.376052    182.000000   2016.000000   \n",
       "75%       23.000000     16.909690       20.041281    273.000000   2019.000000   \n",
       "max       30.000000     19.341235       23.341235    364.000000   2022.000000   \n",
       "\n",
       "              delay  \n",
       "count  71175.000000  \n",
       "mean      12.548378  \n",
       "std       23.125349  \n",
       "min      -41.028033  \n",
       "25%       -4.412876  \n",
       "50%        9.740454  \n",
       "75%       27.650853  \n",
       "max      125.632352  "
      ]
     },
     "execution_count": 198,
     "metadata": {},
     "output_type": "execute_result"
    }
   ],
   "source": [
    "#discrição dos dados\n",
    "dados.describe()"
   ]
  },
  {
   "cell_type": "code",
   "execution_count": 199,
   "metadata": {},
   "outputs": [
    {
     "data": {
      "text/html": [
       "<div>\n",
       "<style scoped>\n",
       "    .dataframe tbody tr th:only-of-type {\n",
       "        vertical-align: middle;\n",
       "    }\n",
       "\n",
       "    .dataframe tbody tr th {\n",
       "        vertical-align: top;\n",
       "    }\n",
       "\n",
       "    .dataframe thead th {\n",
       "        text-align: right;\n",
       "    }\n",
       "</style>\n",
       "<table border=\"1\" class=\"dataframe\">\n",
       "  <thead>\n",
       "    <tr style=\"text-align: right;\">\n",
       "      <th></th>\n",
       "      <th>airline</th>\n",
       "      <th>aircraft_type</th>\n",
       "      <th>schengen</th>\n",
       "      <th>origin</th>\n",
       "    </tr>\n",
       "  </thead>\n",
       "  <tbody>\n",
       "    <tr>\n",
       "      <th>count</th>\n",
       "      <td>71175</td>\n",
       "      <td>71175</td>\n",
       "      <td>71175</td>\n",
       "      <td>71175</td>\n",
       "    </tr>\n",
       "    <tr>\n",
       "      <th>unique</th>\n",
       "      <td>3</td>\n",
       "      <td>6</td>\n",
       "      <td>2</td>\n",
       "      <td>10</td>\n",
       "    </tr>\n",
       "    <tr>\n",
       "      <th>top</th>\n",
       "      <td>BZ</td>\n",
       "      <td>Airbus A320</td>\n",
       "      <td>schengen</td>\n",
       "      <td>TZF</td>\n",
       "    </tr>\n",
       "    <tr>\n",
       "      <th>freq</th>\n",
       "      <td>47598</td>\n",
       "      <td>30778</td>\n",
       "      <td>42569</td>\n",
       "      <td>14162</td>\n",
       "    </tr>\n",
       "  </tbody>\n",
       "</table>\n",
       "</div>"
      ],
      "text/plain": [
       "       airline aircraft_type  schengen origin\n",
       "count    71175         71175     71175  71175\n",
       "unique       3             6         2     10\n",
       "top         BZ   Airbus A320  schengen    TZF\n",
       "freq     47598         30778     42569  14162"
      ]
     },
     "execution_count": 199,
     "metadata": {},
     "output_type": "execute_result"
    }
   ],
   "source": [
    "#Analisar a coluna delay ... para entender o atraso dos voos\n",
    "dados.describe(include='O')"
   ]
  },
  {
   "cell_type": "code",
   "execution_count": 200,
   "metadata": {},
   "outputs": [
    {
     "name": "stdout",
     "output_type": "stream",
     "text": [
      "<class 'pandas.core.frame.DataFrame'>\n",
      "RangeIndex: 71175 entries, 0 to 71174\n",
      "Data columns (total 11 columns):\n",
      " #   Column          Non-Null Count  Dtype  \n",
      "---  ------          --------------  -----  \n",
      " 0   flight_id       71175 non-null  int64  \n",
      " 1   airline         71175 non-null  object \n",
      " 2   aircraft_type   71175 non-null  object \n",
      " 3   schengen        71175 non-null  object \n",
      " 4   origin          71175 non-null  object \n",
      " 5   arrival_time    71175 non-null  float64\n",
      " 6   departure_time  71175 non-null  float64\n",
      " 7   day             71175 non-null  int64  \n",
      " 8   year            71175 non-null  int64  \n",
      " 9   is_holiday      71175 non-null  bool   \n",
      " 10  delay           71175 non-null  float64\n",
      "dtypes: bool(1), float64(3), int64(3), object(4)\n",
      "memory usage: 5.5+ MB\n"
     ]
    }
   ],
   "source": [
    "#Verificando informações \n",
    "dados.info()"
   ]
  },
  {
   "cell_type": "markdown",
   "metadata": {},
   "source": [
    "Processo de DataViz: Visualizações gráficas dos dados"
   ]
  },
  {
   "cell_type": "code",
   "execution_count": 201,
   "metadata": {},
   "outputs": [
    {
     "data": {
      "text/html": [
       "<div>\n",
       "<style scoped>\n",
       "    .dataframe tbody tr th:only-of-type {\n",
       "        vertical-align: middle;\n",
       "    }\n",
       "\n",
       "    .dataframe tbody tr th {\n",
       "        vertical-align: top;\n",
       "    }\n",
       "\n",
       "    .dataframe thead th {\n",
       "        text-align: right;\n",
       "    }\n",
       "</style>\n",
       "<table border=\"1\" class=\"dataframe\">\n",
       "  <thead>\n",
       "    <tr style=\"text-align: right;\">\n",
       "      <th></th>\n",
       "      <th>airline</th>\n",
       "      <th>delay</th>\n",
       "    </tr>\n",
       "  </thead>\n",
       "  <tbody>\n",
       "    <tr>\n",
       "      <th>0</th>\n",
       "      <td>BZ</td>\n",
       "      <td>3.077595</td>\n",
       "    </tr>\n",
       "    <tr>\n",
       "      <th>1</th>\n",
       "      <td>MM</td>\n",
       "      <td>40.498007</td>\n",
       "    </tr>\n",
       "    <tr>\n",
       "      <th>2</th>\n",
       "      <td>YE</td>\n",
       "      <td>25.772248</td>\n",
       "    </tr>\n",
       "  </tbody>\n",
       "</table>\n",
       "</div>"
      ],
      "text/plain": [
       "  airline      delay\n",
       "0      BZ   3.077595\n",
       "1      MM  40.498007\n",
       "2      YE  25.772248"
      ]
     },
     "execution_count": 201,
     "metadata": {},
     "output_type": "execute_result"
    }
   ],
   "source": [
    "#Criando um DataFrame para juntar as colunas 'airline' e 'delay'\n",
    "average_delay = dados.groupby('airline')['delay'].mean().reset_index()\n",
    "\n",
    "average_delay"
   ]
  },
  {
   "cell_type": "code",
   "execution_count": 202,
   "metadata": {},
   "outputs": [
    {
     "data": {
      "image/png": "[encoded data removed]",
      "text/plain": [
       "<Figure size 640x480 with 1 Axes>"
      ]
     },
     "metadata": {},
     "output_type": "display_data"
    },
    {
     "data": {
      "image/png": "[encoded data removed]",
      "text/plain": [
       "<Figure size 640x480 with 1 Axes>"
      ]
     },
     "metadata": {},
     "output_type": "display_data"
    }
   ],
   "source": [
    "#Criando dois gráficos para saber qual é a média de atraso de vvos entra as Companhias aéreas, e quais são Número de voos qua as companias realizam\n",
    "average_delay = dados.groupby('airline')['delay'].mean().reset_index()\n",
    "sns.barplot(x='airline', y='delay', data=average_delay)\n",
    "plt.title('Companhias aéreas vs atrasos médios', fontsize=14, pad= 30)\n",
    "plt.xlabel('Companhias aéreas')\n",
    "plt.ylabel('Atraso médio em minutos')\n",
    "plt.show()\n",
    "\n",
    "sns.countplot(data=dados, x='airline')\n",
    "plt.title('Número de voos por companhia aérea', fontsize=14, pad= 30)\n",
    "plt.xlabel('Companhia aérea')\n",
    "plt.ylabel('Número de voos')\n",
    "plt.show()"
   ]
  },
  {
   "cell_type": "code",
   "execution_count": 203,
   "metadata": {},
   "outputs": [
    {
     "data": {
      "image/png": "[encoded data removed]",
      "text/plain": [
       "<Figure size 640x480 with 1 Axes>"
      ]
     },
     "metadata": {},
     "output_type": "display_data"
    },
    {
     "data": {
      "image/png": "[encoded data removed]",
      "text/plain": [
       "<Figure size 640x480 with 1 Axes>"
      ]
     },
     "metadata": {},
     "output_type": "display_data"
    }
   ],
   "source": [
    "#construir dois gráficos um para os tipos de voo qua atrasam, e outra para quais desses atrasam mais.\n",
    "average_delay = dados.groupby('schengen')['delay'].mean().reset_index()\n",
    "sns.barplot(x='schengen', y='delay', data=average_delay)\n",
    "plt.title('Tipo do voo vs atrasos médios', fontsize=14, pad= 30)\n",
    "plt.xlabel('Tipo do voo')\n",
    "plt.ylabel('Atraso médio em minutos')\n",
    "plt.show()\n",
    "\n",
    "sns.countplot(data=dados, x='schengen')\n",
    "plt.title('Número de voos por tipo do voo', fontsize=14, pad= 30)\n",
    "plt.xlabel('Tipo do voo')\n",
    "plt.ylabel('Número de voos')\n",
    "plt.show()"
   ]
  },
  {
   "cell_type": "code",
   "execution_count": 204,
   "metadata": {},
   "outputs": [
    {
     "data": {
      "image/png": "[encoded data removed]",
      "text/plain": [
       "<Figure size 640x480 with 1 Axes>"
      ]
     },
     "metadata": {},
     "output_type": "display_data"
    }
   ],
   "source": [
    "# Esse gráfico vamos observar os atrasos em feriados\n",
    "average_delay = dados.groupby('is_holiday')['delay'].mean().reset_index()\n",
    "sns.barplot(x='is_holiday', y='delay', data=average_delay)\n",
    "plt.title('Feriado vs atrasos médios', fontsize=14, pad= 30)\n",
    "plt.xlabel('É feriado?')\n",
    "plt.ylabel('Atraso médio em minutos')\n",
    "plt.show()"
   ]
  },
  {
   "cell_type": "code",
   "execution_count": 205,
   "metadata": {},
   "outputs": [
    {
     "data": {
      "image/png": "[encoded data removed]",
      "text/plain": [
       "<Figure size 1200x800 with 1 Axes>"
      ]
     },
     "metadata": {},
     "output_type": "display_data"
    }
   ],
   "source": [
    "#Gráfico para entender quais aeronaves atrasam mais\n",
    "order = dados['aircraft_type'].value_counts().index\n",
    "plt.figure(figsize=(12, 8)) \n",
    "sns.countplot(data=dados, x='aircraft_type', order = order)\n",
    "plt.title('Número de voos por tipo da aeronave', fontsize=14, pad=30 )\n",
    "plt.xticks(rotation=0)\n",
    "plt.xlabel('Tipo da aeronave')\n",
    "plt.ylabel('Número de voos')\n",
    "plt.show()"
   ]
  },
  {
   "cell_type": "code",
   "execution_count": 206,
   "metadata": {},
   "outputs": [
    {
     "data": {
      "text/plain": [
       "<Axes: xlabel='arrival_time', ylabel='Count'>"
      ]
     },
     "execution_count": 206,
     "metadata": {},
     "output_type": "execute_result"
    },
    {
     "data": {
      "image/png": "[encoded data removed]",
      "text/plain": [
       "<Figure size 640x480 with 1 Axes>"
      ]
     },
     "metadata": {},
     "output_type": "display_data"
    }
   ],
   "source": [
    "#Criando histogramas para visualizar os horários de CHEGADA onde acontecem mais atrasos\n",
    "sns.histplot(data=dados, x='arrival_time', kde=True)"
   ]
  },
  {
   "cell_type": "code",
   "execution_count": 207,
   "metadata": {},
   "outputs": [
    {
     "data": {
      "text/plain": [
       "<Axes: xlabel='departure_time', ylabel='Count'>"
      ]
     },
     "execution_count": 207,
     "metadata": {},
     "output_type": "execute_result"
    },
    {
     "data": {
      "image/png": "[encoded data removed]",
      "text/plain": [
       "<Figure size 640x480 with 1 Axes>"
      ]
     },
     "metadata": {},
     "output_type": "display_data"
    }
   ],
   "source": [
    "##Criando histogramas para visualizar os horários de SAÍDA onde acontecem mais atrasos\n",
    "sns.histplot(data=dados, x='departure_time', kde=True)"
   ]
  },
  {
   "cell_type": "code",
   "execution_count": 208,
   "metadata": {},
   "outputs": [
    {
     "data": {
      "image/png": "[encoded data removed]",
      "text/plain": [
       "<Figure size 900x400 with 2 Axes>"
      ]
     },
     "metadata": {},
     "output_type": "display_data"
    }
   ],
   "source": [
    "#Criando Boxplot e um histogramas para visualizar a média e a mediana dos atrasos\n",
    "mean_delay = dados['delay'].mean()\n",
    "median_delay = dados['delay'].median()\n",
    "\n",
    "fig, axes = plt.subplots(1, 2, figsize=(9, 4))\n",
    "\n",
    "sns.boxplot(data=dados, y='delay', ax=axes[0])\n",
    "axes[0].set_title('Boxplot')\n",
    "\n",
    "axes[0].axhline(y=mean_delay, color='r', linestyle='--', label='Média')\n",
    "axes[0].legend()\n",
    "\n",
    "sns.histplot(data=dados, x='delay', ax=axes[1], kde=True)\n",
    "plt.ylabel('Número de voos')\n",
    "plt.grid(False)\n",
    "axes[1].set_title('Histograma')\n",
    "\n",
    "axes[1].axvline(x=mean_delay, color='r', linestyle='--', label='Média')\n",
    "axes[1].axvline(x=median_delay, color='y', linestyle='--', label='Mediana')\n",
    "axes[1].legend()\n",
    "\n",
    "plt.tight_layout()\n",
    "plt.show()"
   ]
  },
  {
   "cell_type": "markdown",
   "metadata": {},
   "source": [
    "Obtendo novas colunas para expandir a análise"
   ]
  },
  {
   "cell_type": "code",
   "execution_count": 209,
   "metadata": {},
   "outputs": [
    {
     "data": {
      "text/html": [
       "<div>\n",
       "<style scoped>\n",
       "    .dataframe tbody tr th:only-of-type {\n",
       "        vertical-align: middle;\n",
       "    }\n",
       "\n",
       "    .dataframe tbody tr th {\n",
       "        vertical-align: top;\n",
       "    }\n",
       "\n",
       "    .dataframe thead th {\n",
       "        text-align: right;\n",
       "    }\n",
       "</style>\n",
       "<table border=\"1\" class=\"dataframe\">\n",
       "  <thead>\n",
       "    <tr style=\"text-align: right;\">\n",
       "      <th></th>\n",
       "      <th>flight_id</th>\n",
       "      <th>airline</th>\n",
       "      <th>aircraft_type</th>\n",
       "      <th>schengen</th>\n",
       "      <th>origin</th>\n",
       "      <th>arrival_time</th>\n",
       "      <th>departure_time</th>\n",
       "      <th>day</th>\n",
       "      <th>year</th>\n",
       "      <th>is_holiday</th>\n",
       "      <th>delay</th>\n",
       "    </tr>\n",
       "  </thead>\n",
       "  <tbody>\n",
       "    <tr>\n",
       "      <th>0</th>\n",
       "      <td>26</td>\n",
       "      <td>MM</td>\n",
       "      <td>Airbus A320</td>\n",
       "      <td>non-schengen</td>\n",
       "      <td>TCY</td>\n",
       "      <td>8.885071</td>\n",
       "      <td>10.885071</td>\n",
       "      <td>0</td>\n",
       "      <td>2010</td>\n",
       "      <td>False</td>\n",
       "      <td>70.205981</td>\n",
       "    </tr>\n",
       "  </tbody>\n",
       "</table>\n",
       "</div>"
      ],
      "text/plain": [
       "   flight_id airline aircraft_type      schengen origin  arrival_time  \\\n",
       "0         26      MM   Airbus A320  non-schengen    TCY      8.885071   \n",
       "\n",
       "   departure_time  day  year  is_holiday      delay  \n",
       "0       10.885071    0  2010       False  70.205981  "
      ]
     },
     "execution_count": 209,
     "metadata": {},
     "output_type": "execute_result"
    }
   ],
   "source": [
    "#Vizualisação dos dados\n",
    "dados.head(1)"
   ]
  },
  {
   "cell_type": "code",
   "execution_count": 210,
   "metadata": {},
   "outputs": [
    {
     "data": {
      "text/plain": [
       "0        2010\n",
       "1        2010\n",
       "2        2010\n",
       "3        2010\n",
       "4        2010\n",
       "         ... \n",
       "71170    2022\n",
       "71171    2022\n",
       "71172    2022\n",
       "71173    2022\n",
       "71174    2022\n",
       "Name: year, Length: 71175, dtype: object"
      ]
     },
     "execution_count": 210,
     "metadata": {},
     "output_type": "execute_result"
    }
   ],
   "source": [
    "#transformar a coluna year em string\n",
    "dados['year'].astype(str)"
   ]
  },
  {
   "cell_type": "code",
   "execution_count": 211,
   "metadata": {},
   "outputs": [
    {
     "data": {
      "text/plain": [
       "0          1\n",
       "1          1\n",
       "2          1\n",
       "3          1\n",
       "4          1\n",
       "        ... \n",
       "71170    365\n",
       "71171    365\n",
       "71172    365\n",
       "71173    365\n",
       "71174    365\n",
       "Name: day, Length: 71175, dtype: object"
      ]
     },
     "execution_count": 211,
     "metadata": {},
     "output_type": "execute_result"
    }
   ],
   "source": [
    "#transformar a coluna day em string, mas com Pandas não consegue interpretar o zero como sendo o dia acressento o +1 ao código.\n",
    "(dados['day'] + 1).astype(str)"
   ]
  },
  {
   "cell_type": "code",
   "execution_count": 212,
   "metadata": {},
   "outputs": [
    {
     "data": {
      "text/html": [
       "<div>\n",
       "<style scoped>\n",
       "    .dataframe tbody tr th:only-of-type {\n",
       "        vertical-align: middle;\n",
       "    }\n",
       "\n",
       "    .dataframe tbody tr th {\n",
       "        vertical-align: top;\n",
       "    }\n",
       "\n",
       "    .dataframe thead th {\n",
       "        text-align: right;\n",
       "    }\n",
       "</style>\n",
       "<table border=\"1\" class=\"dataframe\">\n",
       "  <thead>\n",
       "    <tr style=\"text-align: right;\">\n",
       "      <th></th>\n",
       "      <th>flight_id</th>\n",
       "      <th>airline</th>\n",
       "      <th>aircraft_type</th>\n",
       "      <th>schengen</th>\n",
       "      <th>origin</th>\n",
       "      <th>arrival_time</th>\n",
       "      <th>departure_time</th>\n",
       "      <th>day</th>\n",
       "      <th>year</th>\n",
       "      <th>is_holiday</th>\n",
       "      <th>delay</th>\n",
       "      <th>date</th>\n",
       "    </tr>\n",
       "  </thead>\n",
       "  <tbody>\n",
       "    <tr>\n",
       "      <th>0</th>\n",
       "      <td>26</td>\n",
       "      <td>MM</td>\n",
       "      <td>Airbus A320</td>\n",
       "      <td>non-schengen</td>\n",
       "      <td>TCY</td>\n",
       "      <td>8.885071</td>\n",
       "      <td>10.885071</td>\n",
       "      <td>0</td>\n",
       "      <td>2010</td>\n",
       "      <td>False</td>\n",
       "      <td>70.205981</td>\n",
       "      <td>2010-01-01</td>\n",
       "    </tr>\n",
       "    <tr>\n",
       "      <th>1</th>\n",
       "      <td>10</td>\n",
       "      <td>YE</td>\n",
       "      <td>Airbus A320</td>\n",
       "      <td>non-schengen</td>\n",
       "      <td>TCY</td>\n",
       "      <td>8.939996</td>\n",
       "      <td>11.939996</td>\n",
       "      <td>0</td>\n",
       "      <td>2010</td>\n",
       "      <td>False</td>\n",
       "      <td>38.484609</td>\n",
       "      <td>2010-01-01</td>\n",
       "    </tr>\n",
       "    <tr>\n",
       "      <th>2</th>\n",
       "      <td>3</td>\n",
       "      <td>BZ</td>\n",
       "      <td>Embraer E175</td>\n",
       "      <td>schengen</td>\n",
       "      <td>TZF</td>\n",
       "      <td>18.635384</td>\n",
       "      <td>22.635384</td>\n",
       "      <td>0</td>\n",
       "      <td>2010</td>\n",
       "      <td>False</td>\n",
       "      <td>2.388305</td>\n",
       "      <td>2010-01-01</td>\n",
       "    </tr>\n",
       "    <tr>\n",
       "      <th>3</th>\n",
       "      <td>28</td>\n",
       "      <td>BZ</td>\n",
       "      <td>Airbus A330</td>\n",
       "      <td>non-schengen</td>\n",
       "      <td>EMM</td>\n",
       "      <td>15.967963</td>\n",
       "      <td>17.967963</td>\n",
       "      <td>0</td>\n",
       "      <td>2010</td>\n",
       "      <td>False</td>\n",
       "      <td>19.138491</td>\n",
       "      <td>2010-01-01</td>\n",
       "    </tr>\n",
       "    <tr>\n",
       "      <th>4</th>\n",
       "      <td>15</td>\n",
       "      <td>BZ</td>\n",
       "      <td>Airbus A330</td>\n",
       "      <td>non-schengen</td>\n",
       "      <td>FJB</td>\n",
       "      <td>16.571894</td>\n",
       "      <td>19.571894</td>\n",
       "      <td>0</td>\n",
       "      <td>2010</td>\n",
       "      <td>False</td>\n",
       "      <td>15.016271</td>\n",
       "      <td>2010-01-01</td>\n",
       "    </tr>\n",
       "  </tbody>\n",
       "</table>\n",
       "</div>"
      ],
      "text/plain": [
       "   flight_id airline aircraft_type      schengen origin  arrival_time  \\\n",
       "0         26      MM   Airbus A320  non-schengen    TCY      8.885071   \n",
       "1         10      YE   Airbus A320  non-schengen    TCY      8.939996   \n",
       "2          3      BZ  Embraer E175      schengen    TZF     18.635384   \n",
       "3         28      BZ   Airbus A330  non-schengen    EMM     15.967963   \n",
       "4         15      BZ   Airbus A330  non-schengen    FJB     16.571894   \n",
       "\n",
       "   departure_time  day  year  is_holiday      delay       date  \n",
       "0       10.885071    0  2010       False  70.205981 2010-01-01  \n",
       "1       11.939996    0  2010       False  38.484609 2010-01-01  \n",
       "2       22.635384    0  2010       False   2.388305 2010-01-01  \n",
       "3       17.967963    0  2010       False  19.138491 2010-01-01  \n",
       "4       19.571894    0  2010       False  15.016271 2010-01-01  "
      ]
     },
     "execution_count": 212,
     "metadata": {},
     "output_type": "execute_result"
    }
   ],
   "source": [
    "#Agora vamos criar uma nova coluna e chamaremos de dados 'date'\n",
    "dados['date'] = pd.to_datetime(dados['year'].astype(str) + '-' + (dados['day'] + +1 ).astype(str), format='%Y-%j')\n",
    "\n",
    "dados.head()"
   ]
  },
  {
   "cell_type": "code",
   "execution_count": 213,
   "metadata": {},
   "outputs": [],
   "source": [
    "#para saber os fim de semanas: como o zer0 seria para segundas, 5 e 6 irão ser sábado e domingo\n",
    "dados['is_weekend'] = dados['date'].dt.weekday.isin([5, 6])"
   ]
  },
  {
   "cell_type": "code",
   "execution_count": 214,
   "metadata": {},
   "outputs": [
    {
     "data": {
      "text/html": [
       "<div>\n",
       "<style scoped>\n",
       "    .dataframe tbody tr th:only-of-type {\n",
       "        vertical-align: middle;\n",
       "    }\n",
       "\n",
       "    .dataframe tbody tr th {\n",
       "        vertical-align: top;\n",
       "    }\n",
       "\n",
       "    .dataframe thead th {\n",
       "        text-align: right;\n",
       "    }\n",
       "</style>\n",
       "<table border=\"1\" class=\"dataframe\">\n",
       "  <thead>\n",
       "    <tr style=\"text-align: right;\">\n",
       "      <th></th>\n",
       "      <th>flight_id</th>\n",
       "      <th>airline</th>\n",
       "      <th>aircraft_type</th>\n",
       "      <th>schengen</th>\n",
       "      <th>origin</th>\n",
       "      <th>arrival_time</th>\n",
       "      <th>departure_time</th>\n",
       "      <th>day</th>\n",
       "      <th>year</th>\n",
       "      <th>is_holiday</th>\n",
       "      <th>delay</th>\n",
       "      <th>date</th>\n",
       "      <th>is_weekend</th>\n",
       "      <th>day_name</th>\n",
       "    </tr>\n",
       "  </thead>\n",
       "  <tbody>\n",
       "    <tr>\n",
       "      <th>0</th>\n",
       "      <td>26</td>\n",
       "      <td>MM</td>\n",
       "      <td>Airbus A320</td>\n",
       "      <td>non-schengen</td>\n",
       "      <td>TCY</td>\n",
       "      <td>8.885071</td>\n",
       "      <td>10.885071</td>\n",
       "      <td>0</td>\n",
       "      <td>2010</td>\n",
       "      <td>False</td>\n",
       "      <td>70.205981</td>\n",
       "      <td>2010-01-01</td>\n",
       "      <td>False</td>\n",
       "      <td>Friday</td>\n",
       "    </tr>\n",
       "    <tr>\n",
       "      <th>1</th>\n",
       "      <td>10</td>\n",
       "      <td>YE</td>\n",
       "      <td>Airbus A320</td>\n",
       "      <td>non-schengen</td>\n",
       "      <td>TCY</td>\n",
       "      <td>8.939996</td>\n",
       "      <td>11.939996</td>\n",
       "      <td>0</td>\n",
       "      <td>2010</td>\n",
       "      <td>False</td>\n",
       "      <td>38.484609</td>\n",
       "      <td>2010-01-01</td>\n",
       "      <td>False</td>\n",
       "      <td>Friday</td>\n",
       "    </tr>\n",
       "    <tr>\n",
       "      <th>2</th>\n",
       "      <td>3</td>\n",
       "      <td>BZ</td>\n",
       "      <td>Embraer E175</td>\n",
       "      <td>schengen</td>\n",
       "      <td>TZF</td>\n",
       "      <td>18.635384</td>\n",
       "      <td>22.635384</td>\n",
       "      <td>0</td>\n",
       "      <td>2010</td>\n",
       "      <td>False</td>\n",
       "      <td>2.388305</td>\n",
       "      <td>2010-01-01</td>\n",
       "      <td>False</td>\n",
       "      <td>Friday</td>\n",
       "    </tr>\n",
       "    <tr>\n",
       "      <th>3</th>\n",
       "      <td>28</td>\n",
       "      <td>BZ</td>\n",
       "      <td>Airbus A330</td>\n",
       "      <td>non-schengen</td>\n",
       "      <td>EMM</td>\n",
       "      <td>15.967963</td>\n",
       "      <td>17.967963</td>\n",
       "      <td>0</td>\n",
       "      <td>2010</td>\n",
       "      <td>False</td>\n",
       "      <td>19.138491</td>\n",
       "      <td>2010-01-01</td>\n",
       "      <td>False</td>\n",
       "      <td>Friday</td>\n",
       "    </tr>\n",
       "    <tr>\n",
       "      <th>4</th>\n",
       "      <td>15</td>\n",
       "      <td>BZ</td>\n",
       "      <td>Airbus A330</td>\n",
       "      <td>non-schengen</td>\n",
       "      <td>FJB</td>\n",
       "      <td>16.571894</td>\n",
       "      <td>19.571894</td>\n",
       "      <td>0</td>\n",
       "      <td>2010</td>\n",
       "      <td>False</td>\n",
       "      <td>15.016271</td>\n",
       "      <td>2010-01-01</td>\n",
       "      <td>False</td>\n",
       "      <td>Friday</td>\n",
       "    </tr>\n",
       "  </tbody>\n",
       "</table>\n",
       "</div>"
      ],
      "text/plain": [
       "   flight_id airline aircraft_type      schengen origin  arrival_time  \\\n",
       "0         26      MM   Airbus A320  non-schengen    TCY      8.885071   \n",
       "1         10      YE   Airbus A320  non-schengen    TCY      8.939996   \n",
       "2          3      BZ  Embraer E175      schengen    TZF     18.635384   \n",
       "3         28      BZ   Airbus A330  non-schengen    EMM     15.967963   \n",
       "4         15      BZ   Airbus A330  non-schengen    FJB     16.571894   \n",
       "\n",
       "   departure_time  day  year  is_holiday      delay       date  is_weekend  \\\n",
       "0       10.885071    0  2010       False  70.205981 2010-01-01       False   \n",
       "1       11.939996    0  2010       False  38.484609 2010-01-01       False   \n",
       "2       22.635384    0  2010       False   2.388305 2010-01-01       False   \n",
       "3       17.967963    0  2010       False  19.138491 2010-01-01       False   \n",
       "4       19.571894    0  2010       False  15.016271 2010-01-01       False   \n",
       "\n",
       "  day_name  \n",
       "0   Friday  \n",
       "1   Friday  \n",
       "2   Friday  \n",
       "3   Friday  \n",
       "4   Friday  "
      ]
     },
     "execution_count": 214,
     "metadata": {},
     "output_type": "execute_result"
    }
   ],
   "source": [
    "#Já para denomear todos os dias da sameana \n",
    "dados['day_name'] = dados['date'].dt.day_name()\n",
    "\n",
    "dados.head()"
   ]
  },
  {
   "cell_type": "markdown",
   "metadata": {},
   "source": [
    "Trabalhando com variáveis categóricas"
   ]
  },
  {
   "cell_type": "code",
   "execution_count": 215,
   "metadata": {},
   "outputs": [
    {
     "data": {
      "text/plain": [
       "flight_id            30\n",
       "airline               3\n",
       "aircraft_type         6\n",
       "schengen              2\n",
       "origin               10\n",
       "arrival_time         30\n",
       "departure_time       30\n",
       "day                 365\n",
       "year                 13\n",
       "is_holiday            2\n",
       "delay             71175\n",
       "date               4745\n",
       "is_weekend            2\n",
       "day_name              7\n",
       "dtype: int64"
      ]
     },
     "execution_count": 215,
     "metadata": {},
     "output_type": "execute_result"
    }
   ],
   "source": [
    "#verificar quais são esses valores únicos\n",
    "dados.nunique()"
   ]
  },
  {
   "cell_type": "code",
   "execution_count": 216,
   "metadata": {},
   "outputs": [
    {
     "data": {
      "text/plain": [
       "array(['non-schengen', 'schengen'], dtype=object)"
      ]
     },
     "execution_count": 216,
     "metadata": {},
     "output_type": "execute_result"
    }
   ],
   "source": [
    "#Quais são os valores unicos da coluna 'schengen'\n",
    "dados['schengen'].unique()"
   ]
  },
  {
   "cell_type": "code",
   "execution_count": 217,
   "metadata": {},
   "outputs": [
    {
     "data": {
      "text/plain": [
       "array([False,  True])"
      ]
     },
     "execution_count": 217,
     "metadata": {},
     "output_type": "execute_result"
    }
   ],
   "source": [
    "dados['is_weekend'].unique()"
   ]
  },
  {
   "cell_type": "code",
   "execution_count": 218,
   "metadata": {},
   "outputs": [
    {
     "data": {
      "text/plain": [
       "array([False,  True])"
      ]
     },
     "execution_count": 218,
     "metadata": {},
     "output_type": "execute_result"
    }
   ],
   "source": [
    "dados['is_holiday'].unique()"
   ]
  },
  {
   "cell_type": "code",
   "execution_count": 219,
   "metadata": {},
   "outputs": [
    {
     "name": "stderr",
     "output_type": "stream",
     "text": [
      "C:\\Users\\ingri\\AppData\\Local\\Temp\\ipykernel_2444\\1770486362.py:2: FutureWarning: Downcasting behavior in `replace` is deprecated and will be removed in a future version. To retain the old behavior, explicitly call `result.infer_objects(copy=False)`. To opt-in to the future behavior, set `pd.set_option('future.no_silent_downcasting', True)`\n",
      "  dados['schengen'] = dados['schengen'].replace({'non-schengen': 0, 'schengen': 1})\n",
      "C:\\Users\\ingri\\AppData\\Local\\Temp\\ipykernel_2444\\1770486362.py:3: FutureWarning: Downcasting behavior in `replace` is deprecated and will be removed in a future version. To retain the old behavior, explicitly call `result.infer_objects(copy=False)`. To opt-in to the future behavior, set `pd.set_option('future.no_silent_downcasting', True)`\n",
      "  dados['is_holiday'] = dados['is_holiday'].replace({False: 0, True: 1})\n",
      "C:\\Users\\ingri\\AppData\\Local\\Temp\\ipykernel_2444\\1770486362.py:4: FutureWarning: Downcasting behavior in `replace` is deprecated and will be removed in a future version. To retain the old behavior, explicitly call `result.infer_objects(copy=False)`. To opt-in to the future behavior, set `pd.set_option('future.no_silent_downcasting', True)`\n",
      "  dados['is_weekend'] = dados['is_weekend'].replace({False: 0, True: 1})\n"
     ]
    },
    {
     "data": {
      "text/html": [
       "<div>\n",
       "<style scoped>\n",
       "    .dataframe tbody tr th:only-of-type {\n",
       "        vertical-align: middle;\n",
       "    }\n",
       "\n",
       "    .dataframe tbody tr th {\n",
       "        vertical-align: top;\n",
       "    }\n",
       "\n",
       "    .dataframe thead th {\n",
       "        text-align: right;\n",
       "    }\n",
       "</style>\n",
       "<table border=\"1\" class=\"dataframe\">\n",
       "  <thead>\n",
       "    <tr style=\"text-align: right;\">\n",
       "      <th></th>\n",
       "      <th>flight_id</th>\n",
       "      <th>airline</th>\n",
       "      <th>aircraft_type</th>\n",
       "      <th>schengen</th>\n",
       "      <th>origin</th>\n",
       "      <th>arrival_time</th>\n",
       "      <th>departure_time</th>\n",
       "      <th>day</th>\n",
       "      <th>year</th>\n",
       "      <th>is_holiday</th>\n",
       "      <th>delay</th>\n",
       "      <th>date</th>\n",
       "      <th>is_weekend</th>\n",
       "      <th>day_name</th>\n",
       "    </tr>\n",
       "  </thead>\n",
       "  <tbody>\n",
       "    <tr>\n",
       "      <th>0</th>\n",
       "      <td>26</td>\n",
       "      <td>MM</td>\n",
       "      <td>Airbus A320</td>\n",
       "      <td>0</td>\n",
       "      <td>TCY</td>\n",
       "      <td>8.885071</td>\n",
       "      <td>10.885071</td>\n",
       "      <td>0</td>\n",
       "      <td>2010</td>\n",
       "      <td>0</td>\n",
       "      <td>70.205981</td>\n",
       "      <td>2010-01-01</td>\n",
       "      <td>0</td>\n",
       "      <td>Friday</td>\n",
       "    </tr>\n",
       "    <tr>\n",
       "      <th>1</th>\n",
       "      <td>10</td>\n",
       "      <td>YE</td>\n",
       "      <td>Airbus A320</td>\n",
       "      <td>0</td>\n",
       "      <td>TCY</td>\n",
       "      <td>8.939996</td>\n",
       "      <td>11.939996</td>\n",
       "      <td>0</td>\n",
       "      <td>2010</td>\n",
       "      <td>0</td>\n",
       "      <td>38.484609</td>\n",
       "      <td>2010-01-01</td>\n",
       "      <td>0</td>\n",
       "      <td>Friday</td>\n",
       "    </tr>\n",
       "    <tr>\n",
       "      <th>2</th>\n",
       "      <td>3</td>\n",
       "      <td>BZ</td>\n",
       "      <td>Embraer E175</td>\n",
       "      <td>1</td>\n",
       "      <td>TZF</td>\n",
       "      <td>18.635384</td>\n",
       "      <td>22.635384</td>\n",
       "      <td>0</td>\n",
       "      <td>2010</td>\n",
       "      <td>0</td>\n",
       "      <td>2.388305</td>\n",
       "      <td>2010-01-01</td>\n",
       "      <td>0</td>\n",
       "      <td>Friday</td>\n",
       "    </tr>\n",
       "    <tr>\n",
       "      <th>3</th>\n",
       "      <td>28</td>\n",
       "      <td>BZ</td>\n",
       "      <td>Airbus A330</td>\n",
       "      <td>0</td>\n",
       "      <td>EMM</td>\n",
       "      <td>15.967963</td>\n",
       "      <td>17.967963</td>\n",
       "      <td>0</td>\n",
       "      <td>2010</td>\n",
       "      <td>0</td>\n",
       "      <td>19.138491</td>\n",
       "      <td>2010-01-01</td>\n",
       "      <td>0</td>\n",
       "      <td>Friday</td>\n",
       "    </tr>\n",
       "    <tr>\n",
       "      <th>4</th>\n",
       "      <td>15</td>\n",
       "      <td>BZ</td>\n",
       "      <td>Airbus A330</td>\n",
       "      <td>0</td>\n",
       "      <td>FJB</td>\n",
       "      <td>16.571894</td>\n",
       "      <td>19.571894</td>\n",
       "      <td>0</td>\n",
       "      <td>2010</td>\n",
       "      <td>0</td>\n",
       "      <td>15.016271</td>\n",
       "      <td>2010-01-01</td>\n",
       "      <td>0</td>\n",
       "      <td>Friday</td>\n",
       "    </tr>\n",
       "  </tbody>\n",
       "</table>\n",
       "</div>"
      ],
      "text/plain": [
       "   flight_id airline aircraft_type  schengen origin  arrival_time  \\\n",
       "0         26      MM   Airbus A320         0    TCY      8.885071   \n",
       "1         10      YE   Airbus A320         0    TCY      8.939996   \n",
       "2          3      BZ  Embraer E175         1    TZF     18.635384   \n",
       "3         28      BZ   Airbus A330         0    EMM     15.967963   \n",
       "4         15      BZ   Airbus A330         0    FJB     16.571894   \n",
       "\n",
       "   departure_time  day  year  is_holiday      delay       date  is_weekend  \\\n",
       "0       10.885071    0  2010           0  70.205981 2010-01-01           0   \n",
       "1       11.939996    0  2010           0  38.484609 2010-01-01           0   \n",
       "2       22.635384    0  2010           0   2.388305 2010-01-01           0   \n",
       "3       17.967963    0  2010           0  19.138491 2010-01-01           0   \n",
       "4       19.571894    0  2010           0  15.016271 2010-01-01           0   \n",
       "\n",
       "  day_name  \n",
       "0   Friday  \n",
       "1   Friday  \n",
       "2   Friday  \n",
       "3   Friday  \n",
       "4   Friday  "
      ]
     },
     "execution_count": 219,
     "metadata": {},
     "output_type": "execute_result"
    }
   ],
   "source": [
    "# Estão como non-schengen' e 'schengen' em vez de 0 / true e 1 / false\n",
    "dados['schengen'] = dados['schengen'].replace({'non-schengen': 0, 'schengen': 1})\n",
    "dados['is_holiday'] = dados['is_holiday'].replace({False: 0, True: 1})\n",
    "dados['is_weekend'] = dados['is_weekend'].replace({False: 0, True: 1})\n",
    "\n",
    "dados.head()"
   ]
  },
  {
   "cell_type": "code",
   "execution_count": 220,
   "metadata": {},
   "outputs": [],
   "source": [
    "#Ciar uma lista com as variáveis que têm mais de duas categorias 'airline', 'aircraft_type', 'origin' e 'day_name'\n",
    "variaveis_categoricas = ['airline', 'aircraft_type', 'origin', 'day_name']"
   ]
  },
  {
   "cell_type": "code",
   "execution_count": 221,
   "metadata": {},
   "outputs": [
    {
     "data": {
      "text/html": [
       "<div>\n",
       "<style scoped>\n",
       "    .dataframe tbody tr th:only-of-type {\n",
       "        vertical-align: middle;\n",
       "    }\n",
       "\n",
       "    .dataframe tbody tr th {\n",
       "        vertical-align: top;\n",
       "    }\n",
       "\n",
       "    .dataframe thead th {\n",
       "        text-align: right;\n",
       "    }\n",
       "</style>\n",
       "<table border=\"1\" class=\"dataframe\">\n",
       "  <thead>\n",
       "    <tr style=\"text-align: right;\">\n",
       "      <th></th>\n",
       "      <th>flight_id</th>\n",
       "      <th>schengen</th>\n",
       "      <th>arrival_time</th>\n",
       "      <th>departure_time</th>\n",
       "      <th>day</th>\n",
       "      <th>year</th>\n",
       "      <th>is_holiday</th>\n",
       "      <th>delay</th>\n",
       "      <th>date</th>\n",
       "      <th>is_weekend</th>\n",
       "      <th>...</th>\n",
       "      <th>origin_TCY</th>\n",
       "      <th>origin_TZF</th>\n",
       "      <th>origin_ZQO</th>\n",
       "      <th>day_name_Friday</th>\n",
       "      <th>day_name_Monday</th>\n",
       "      <th>day_name_Saturday</th>\n",
       "      <th>day_name_Sunday</th>\n",
       "      <th>day_name_Thursday</th>\n",
       "      <th>day_name_Tuesday</th>\n",
       "      <th>day_name_Wednesday</th>\n",
       "    </tr>\n",
       "  </thead>\n",
       "  <tbody>\n",
       "    <tr>\n",
       "      <th>0</th>\n",
       "      <td>26</td>\n",
       "      <td>0</td>\n",
       "      <td>8.885071</td>\n",
       "      <td>10.885071</td>\n",
       "      <td>0</td>\n",
       "      <td>2010</td>\n",
       "      <td>0</td>\n",
       "      <td>70.205981</td>\n",
       "      <td>2010-01-01</td>\n",
       "      <td>0</td>\n",
       "      <td>...</td>\n",
       "      <td>1</td>\n",
       "      <td>0</td>\n",
       "      <td>0</td>\n",
       "      <td>1</td>\n",
       "      <td>0</td>\n",
       "      <td>0</td>\n",
       "      <td>0</td>\n",
       "      <td>0</td>\n",
       "      <td>0</td>\n",
       "      <td>0</td>\n",
       "    </tr>\n",
       "    <tr>\n",
       "      <th>1</th>\n",
       "      <td>10</td>\n",
       "      <td>0</td>\n",
       "      <td>8.939996</td>\n",
       "      <td>11.939996</td>\n",
       "      <td>0</td>\n",
       "      <td>2010</td>\n",
       "      <td>0</td>\n",
       "      <td>38.484609</td>\n",
       "      <td>2010-01-01</td>\n",
       "      <td>0</td>\n",
       "      <td>...</td>\n",
       "      <td>1</td>\n",
       "      <td>0</td>\n",
       "      <td>0</td>\n",
       "      <td>1</td>\n",
       "      <td>0</td>\n",
       "      <td>0</td>\n",
       "      <td>0</td>\n",
       "      <td>0</td>\n",
       "      <td>0</td>\n",
       "      <td>0</td>\n",
       "    </tr>\n",
       "  </tbody>\n",
       "</table>\n",
       "<p>2 rows × 36 columns</p>\n",
       "</div>"
      ],
      "text/plain": [
       "   flight_id  schengen  arrival_time  departure_time  day  year  is_holiday  \\\n",
       "0         26         0      8.885071       10.885071    0  2010           0   \n",
       "1         10         0      8.939996       11.939996    0  2010           0   \n",
       "\n",
       "       delay       date  is_weekend  ...  origin_TCY  origin_TZF  origin_ZQO  \\\n",
       "0  70.205981 2010-01-01           0  ...           1           0           0   \n",
       "1  38.484609 2010-01-01           0  ...           1           0           0   \n",
       "\n",
       "   day_name_Friday  day_name_Monday  day_name_Saturday  day_name_Sunday  \\\n",
       "0                1                0                  0                0   \n",
       "1                1                0                  0                0   \n",
       "\n",
       "   day_name_Thursday  day_name_Tuesday  day_name_Wednesday  \n",
       "0                  0                 0                   0  \n",
       "1                  0                 0                   0  \n",
       "\n",
       "[2 rows x 36 columns]"
      ]
     },
     "execution_count": 221,
     "metadata": {},
     "output_type": "execute_result"
    }
   ],
   "source": [
    "# Criando um DataFrame e para visualizar apenas dois resultados incluimos .head(2)\n",
    "df_encoded = pd.get_dummies(data=dados, columns=variaveis_categoricas, dtype=int).head(2)\n",
    "\n",
    "df_encoded.head()"
   ]
  },
  {
   "cell_type": "markdown",
   "metadata": {},
   "source": [
    "Limpeza de dados "
   ]
  },
  {
   "cell_type": "code",
   "execution_count": 222,
   "metadata": {},
   "outputs": [
    {
     "data": {
      "text/html": [
       "<div>\n",
       "<style scoped>\n",
       "    .dataframe tbody tr th:only-of-type {\n",
       "        vertical-align: middle;\n",
       "    }\n",
       "\n",
       "    .dataframe tbody tr th {\n",
       "        vertical-align: top;\n",
       "    }\n",
       "\n",
       "    .dataframe thead th {\n",
       "        text-align: right;\n",
       "    }\n",
       "</style>\n",
       "<table border=\"1\" class=\"dataframe\">\n",
       "  <thead>\n",
       "    <tr style=\"text-align: right;\">\n",
       "      <th></th>\n",
       "      <th>arrival_time</th>\n",
       "      <th>departure_time</th>\n",
       "    </tr>\n",
       "  </thead>\n",
       "  <tbody>\n",
       "    <tr>\n",
       "      <th>0</th>\n",
       "      <td>8.885071</td>\n",
       "      <td>10.885071</td>\n",
       "    </tr>\n",
       "    <tr>\n",
       "      <th>1</th>\n",
       "      <td>8.939996</td>\n",
       "      <td>11.939996</td>\n",
       "    </tr>\n",
       "    <tr>\n",
       "      <th>2</th>\n",
       "      <td>18.635384</td>\n",
       "      <td>22.635384</td>\n",
       "    </tr>\n",
       "    <tr>\n",
       "      <th>3</th>\n",
       "      <td>15.967963</td>\n",
       "      <td>17.967963</td>\n",
       "    </tr>\n",
       "    <tr>\n",
       "      <th>4</th>\n",
       "      <td>16.571894</td>\n",
       "      <td>19.571894</td>\n",
       "    </tr>\n",
       "    <tr>\n",
       "      <th>...</th>\n",
       "      <td>...</td>\n",
       "      <td>...</td>\n",
       "    </tr>\n",
       "    <tr>\n",
       "      <th>71170</th>\n",
       "      <td>18.635384</td>\n",
       "      <td>22.635384</td>\n",
       "    </tr>\n",
       "    <tr>\n",
       "      <th>71171</th>\n",
       "      <td>16.718722</td>\n",
       "      <td>21.718722</td>\n",
       "    </tr>\n",
       "    <tr>\n",
       "      <th>71172</th>\n",
       "      <td>8.564949</td>\n",
       "      <td>13.564949</td>\n",
       "    </tr>\n",
       "    <tr>\n",
       "      <th>71173</th>\n",
       "      <td>9.344097</td>\n",
       "      <td>12.344097</td>\n",
       "    </tr>\n",
       "    <tr>\n",
       "      <th>71174</th>\n",
       "      <td>8.591208</td>\n",
       "      <td>11.591208</td>\n",
       "    </tr>\n",
       "  </tbody>\n",
       "</table>\n",
       "<p>71175 rows × 2 columns</p>\n",
       "</div>"
      ],
      "text/plain": [
       "       arrival_time  departure_time\n",
       "0          8.885071       10.885071\n",
       "1          8.939996       11.939996\n",
       "2         18.635384       22.635384\n",
       "3         15.967963       17.967963\n",
       "4         16.571894       19.571894\n",
       "...             ...             ...\n",
       "71170     18.635384       22.635384\n",
       "71171     16.718722       21.718722\n",
       "71172      8.564949       13.564949\n",
       "71173      9.344097       12.344097\n",
       "71174      8.591208       11.591208\n",
       "\n",
       "[71175 rows x 2 columns]"
      ]
     },
     "execution_count": 222,
     "metadata": {},
     "output_type": "execute_result"
    }
   ],
   "source": [
    "#A análise de correlação nos retorna um índice que varia de -1 a 1, onde -1 indica uma correlação negativa perfeita e significa que se uma variável cresce, a outra decresce na mesma proporção, ou seja, são inversas.\n",
    "dados[['arrival_time', 'departure_time']]"
   ]
  },
  {
   "cell_type": "code",
   "execution_count": 223,
   "metadata": {},
   "outputs": [
    {
     "data": {
      "text/html": [
       "<div>\n",
       "<style scoped>\n",
       "    .dataframe tbody tr th:only-of-type {\n",
       "        vertical-align: middle;\n",
       "    }\n",
       "\n",
       "    .dataframe tbody tr th {\n",
       "        vertical-align: top;\n",
       "    }\n",
       "\n",
       "    .dataframe thead th {\n",
       "        text-align: right;\n",
       "    }\n",
       "</style>\n",
       "<table border=\"1\" class=\"dataframe\">\n",
       "  <thead>\n",
       "    <tr style=\"text-align: right;\">\n",
       "      <th></th>\n",
       "      <th>arrival_time</th>\n",
       "      <th>departure_time</th>\n",
       "    </tr>\n",
       "  </thead>\n",
       "  <tbody>\n",
       "    <tr>\n",
       "      <th>arrival_time</th>\n",
       "      <td>1.0</td>\n",
       "      <td>1.0</td>\n",
       "    </tr>\n",
       "    <tr>\n",
       "      <th>departure_time</th>\n",
       "      <td>1.0</td>\n",
       "      <td>1.0</td>\n",
       "    </tr>\n",
       "  </tbody>\n",
       "</table>\n",
       "</div>"
      ],
      "text/plain": [
       "                arrival_time  departure_time\n",
       "arrival_time             1.0             1.0\n",
       "departure_time           1.0             1.0"
      ]
     },
     "execution_count": 223,
     "metadata": {},
     "output_type": "execute_result"
    }
   ],
   "source": [
    "# selecionar o conjunto de dados 'arrival_time' e 'departure_time'\n",
    "df_encoded[['arrival_time', 'departure_time']].corr()"
   ]
  },
  {
   "cell_type": "code",
   "execution_count": 224,
   "metadata": {},
   "outputs": [
    {
     "data": {
      "text/html": [
       "<div>\n",
       "<style scoped>\n",
       "    .dataframe tbody tr th:only-of-type {\n",
       "        vertical-align: middle;\n",
       "    }\n",
       "\n",
       "    .dataframe tbody tr th {\n",
       "        vertical-align: top;\n",
       "    }\n",
       "\n",
       "    .dataframe thead th {\n",
       "        text-align: right;\n",
       "    }\n",
       "</style>\n",
       "<table border=\"1\" class=\"dataframe\">\n",
       "  <thead>\n",
       "    <tr style=\"text-align: right;\">\n",
       "      <th></th>\n",
       "      <th>schengen</th>\n",
       "      <th>arrival_time</th>\n",
       "      <th>is_holiday</th>\n",
       "      <th>delay</th>\n",
       "      <th>is_weekend</th>\n",
       "      <th>airline_BZ</th>\n",
       "      <th>airline_MM</th>\n",
       "      <th>airline_YE</th>\n",
       "      <th>aircraft_type_Airbus A320</th>\n",
       "      <th>aircraft_type_Airbus A330</th>\n",
       "      <th>...</th>\n",
       "      <th>origin_TCY</th>\n",
       "      <th>origin_TZF</th>\n",
       "      <th>origin_ZQO</th>\n",
       "      <th>day_name_Friday</th>\n",
       "      <th>day_name_Monday</th>\n",
       "      <th>day_name_Saturday</th>\n",
       "      <th>day_name_Sunday</th>\n",
       "      <th>day_name_Thursday</th>\n",
       "      <th>day_name_Tuesday</th>\n",
       "      <th>day_name_Wednesday</th>\n",
       "    </tr>\n",
       "  </thead>\n",
       "  <tbody>\n",
       "    <tr>\n",
       "      <th>0</th>\n",
       "      <td>0</td>\n",
       "      <td>8.885071</td>\n",
       "      <td>0</td>\n",
       "      <td>70.205981</td>\n",
       "      <td>0</td>\n",
       "      <td>0</td>\n",
       "      <td>1</td>\n",
       "      <td>0</td>\n",
       "      <td>1</td>\n",
       "      <td>0</td>\n",
       "      <td>...</td>\n",
       "      <td>1</td>\n",
       "      <td>0</td>\n",
       "      <td>0</td>\n",
       "      <td>1</td>\n",
       "      <td>0</td>\n",
       "      <td>0</td>\n",
       "      <td>0</td>\n",
       "      <td>0</td>\n",
       "      <td>0</td>\n",
       "      <td>0</td>\n",
       "    </tr>\n",
       "    <tr>\n",
       "      <th>1</th>\n",
       "      <td>0</td>\n",
       "      <td>8.939996</td>\n",
       "      <td>0</td>\n",
       "      <td>38.484609</td>\n",
       "      <td>0</td>\n",
       "      <td>0</td>\n",
       "      <td>0</td>\n",
       "      <td>1</td>\n",
       "      <td>1</td>\n",
       "      <td>0</td>\n",
       "      <td>...</td>\n",
       "      <td>1</td>\n",
       "      <td>0</td>\n",
       "      <td>0</td>\n",
       "      <td>1</td>\n",
       "      <td>0</td>\n",
       "      <td>0</td>\n",
       "      <td>0</td>\n",
       "      <td>0</td>\n",
       "      <td>0</td>\n",
       "      <td>0</td>\n",
       "    </tr>\n",
       "  </tbody>\n",
       "</table>\n",
       "<p>2 rows × 31 columns</p>\n",
       "</div>"
      ],
      "text/plain": [
       "   schengen  arrival_time  is_holiday      delay  is_weekend  airline_BZ  \\\n",
       "0         0      8.885071           0  70.205981           0           0   \n",
       "1         0      8.939996           0  38.484609           0           0   \n",
       "\n",
       "   airline_MM  airline_YE  aircraft_type_Airbus A320  \\\n",
       "0           1           0                          1   \n",
       "1           0           1                          1   \n",
       "\n",
       "   aircraft_type_Airbus A330  ...  origin_TCY  origin_TZF  origin_ZQO  \\\n",
       "0                          0  ...           1           0           0   \n",
       "1                          0  ...           1           0           0   \n",
       "\n",
       "   day_name_Friday  day_name_Monday  day_name_Saturday  day_name_Sunday  \\\n",
       "0                1                0                  0                0   \n",
       "1                1                0                  0                0   \n",
       "\n",
       "   day_name_Thursday  day_name_Tuesday  day_name_Wednesday  \n",
       "0                  0                 0                   0  \n",
       "1                  0                 0                   0  \n",
       "\n",
       "[2 rows x 31 columns]"
      ]
     },
     "execution_count": 224,
     "metadata": {},
     "output_type": "execute_result"
    }
   ],
   "source": [
    "# atribuir a um DataFrame as colunas removidas\n",
    "df_clean = df_encoded.drop([\"flight_id\", \"departure_time\", \"day\", \"year\", \"date\"], axis=1)\n",
    "\n",
    "df_clean.head()"
   ]
  }
 ],
 "metadata": {
  "kernelspec": {
   "display_name": "Python 3",
   "language": "python",
   "name": "python3"
  },
  "language_info": {
   "codemirror_mode": {
    "name": "ipython",
    "version": 3
   },
   "file_extension": ".py",
   "mimetype": "text/x-python",
   "name": "python",
   "nbconvert_exporter": "python",
   "pygments_lexer": "ipython3",
   "version": "3.11.9"
  }
 },
 "nbformat": 4,
 "nbformat_minor": 2
}
